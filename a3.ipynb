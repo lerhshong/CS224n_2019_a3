{
 "cells": [
  {
   "cell_type": "markdown",
   "metadata": {},
   "source": [
    "1ai. Adam -  using a rolling average should mean that the updates can't vary too far from the 'agreement' of the previous updates. Why is lower variance updates good? I suppose it could lead to more stability, there isn't a single update that takes too small a step or too large a step relative to the past\n",
    "\n",
    "1aii. Dividing by the sqrt of v brings the parameters to the same scale. Why might this be helpful though? Perhaps it allows the gradient signals from upstream to be distributed better?\n",
    "\n",
    "1bi. \\Gamma should be 1/p_drop, since we want the expected value of h_drop to be h.\n",
    "\n",
    "1bii. Dropout is to stop the network from relying too much on a neuron. It doesn't make sense to do so during evaluation - all the neurons have gone through this regime and are regularized, so use all the regularized neurons ('full power')"
   ]
  },
  {
   "cell_type": "markdown",
   "metadata": {},
   "source": [
    "2a. \n",
    "\n",
    "|Stack|Buffer|New dependency| Transition\n",
    "| --- | --- | --- | --- |\n",
    "[Root, parsed] | [this, sentence, correctly] | parsed -> I | LEFT-ARC\n",
    "[Root, parsed, this] | [sentence, correctly] |             | SHIFT\n",
    "[Root, parsed, this, sentence] | [correctly]|  | SHIFT\n",
    "[Root, parsed, sentence,] | [correctly]  | sentence -> this |  LEFT-ARC\n",
    "[Root, parsed]|[correctly] |parsed -> sentence|  RIGHT-ARC\n",
    "[Root, parsed, correctly]| | | SHIFT\n",
    "[Root, parsed] | |parsed -> correctly | RIGHT-ARC\n",
    "[Root] | | Root  -> parsed | RIGHT-ARC"
   ]
  },
  {
   "cell_type": "markdown",
   "metadata": {},
   "source": [
    "2b. Will be parsed in 2n+1. You need a shift and an arc to remove one word, plus one final root dependency"
   ]
  },
  {
   "cell_type": "code",
   "execution_count": null,
   "metadata": {},
   "outputs": [],
   "source": []
  }
 ],
 "metadata": {
  "kernelspec": {
   "display_name": "Python 3",
   "language": "python",
   "name": "python3"
  },
  "language_info": {
   "codemirror_mode": {
    "name": "ipython",
    "version": 3
   },
   "file_extension": ".py",
   "mimetype": "text/x-python",
   "name": "python",
   "nbconvert_exporter": "python",
   "pygments_lexer": "ipython3",
   "version": "3.7.4"
  }
 },
 "nbformat": 4,
 "nbformat_minor": 2
}
